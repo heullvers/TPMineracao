{
 "cells": [
  {
   "cell_type": "code",
   "execution_count": 1,
   "metadata": {},
   "outputs": [],
   "source": [
    "#Importando o pandas\n",
    "import pandas as pd"
   ]
  },
  {
   "cell_type": "code",
   "execution_count": 26,
   "metadata": {},
   "outputs": [],
   "source": [
    "#Abrindo o arquivo csv\n",
    "df = pd.read_csv(\"tabela.csv\", encoding=\"UTF-8\")\n",
    "df1 = pd.read_csv(\"tabela2.csv\", encoding=\"UTF-8\")\n",
    "df2 = pd.read_csv(\"tabela3.csv\", encoding=\"UTF-8\")\n"
   ]
  },
  {
   "cell_type": "code",
   "execution_count": 27,
   "metadata": {},
   "outputs": [],
   "source": [
    "df_concat = pd.concat([df,df1,df2])"
   ]
  },
  {
   "cell_type": "code",
   "execution_count": 28,
   "metadata": {},
   "outputs": [
    {
     "name": "stdout",
     "output_type": "stream",
     "text": [
      "          Nome  Idade Sexo\n",
      "0      Heuller     21    M\n",
      "1         Alan     22    M\n",
      "0       Kelvin     21    M\n",
      "1     Thalyson     22    M\n",
      "0          Leo     21    M\n",
      "1  Luiz Carlos     50    M\n",
      "2      Juninho     51    M\n"
     ]
    }
   ],
   "source": [
    "print(df_concat)"
   ]
  },
  {
   "cell_type": "code",
   "execution_count": null,
   "metadata": {},
   "outputs": [],
   "source": []
  },
  {
   "cell_type": "code",
   "execution_count": null,
   "metadata": {},
   "outputs": [],
   "source": []
  }
 ],
 "metadata": {
  "kernelspec": {
   "display_name": "Python 3",
   "language": "python",
   "name": "python3"
  },
  "language_info": {
   "codemirror_mode": {
    "name": "ipython",
    "version": 3
   },
   "file_extension": ".py",
   "mimetype": "text/x-python",
   "name": "python",
   "nbconvert_exporter": "python",
   "pygments_lexer": "ipython3",
   "version": "3.6.5"
  }
 },
 "nbformat": 4,
 "nbformat_minor": 2
}
